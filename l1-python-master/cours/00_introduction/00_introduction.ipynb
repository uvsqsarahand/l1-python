{
 "cells": [
  {
   "cell_type": "markdown",
   "metadata": {
    "slideshow": {
     "slide_type": "slide"
    }
   },
   "source": [
    "#  IN100 : introduction au cours"
   ]
  },
  {
   "cell_type": "markdown",
   "metadata": {
    "slideshow": {
     "slide_type": "slide"
    }
   },
   "source": [
    "## 1. Emplois du temps\n",
    "---\n",
    "\n",
    "* [Emploi du temps officiel](https://edt.uvsq.fr/cal?vt=month&dt=2020-09-07&et=module&fid0=LSIN100%20). Ce module s'appelle **LS**IN100.\n",
    "* Chaque créneau dure 1 heure et 20 minutes. **Attention**: les horaires ont changé par rapport à l'année dernière.\n",
    "* Les travaux dirigés (TDs) ont lieu une semaine sur deux en présentiel. Le premier TD est en présentiel et commence soit la semaine du 21 septembre soit la semaine du 28 septembre selon les groupes.\n",
    "* Les TDs qui ont lieu à distance se déroulent au même horaire que celui en présentiel. Le chargé de TD anime le TD par visioconférence via l'outil de [Moodle](https://moodle.uvsq.fr/moodle2021/course/view.php?id=819). \n",
    "* Sur l'emploi du temps, les TDs à distance sont notés en \"salle\" *Moodle*.\n",
    "* Il est  impératif d'être inscrit au cours IN100 sur Moodle.\n",
    "* Tous les supports de cours et sujets de TDs sont accessibles via Moodle.\n",
    "* Il faut disposer d'un ordinateur chez soi. L'ufr peut prêter des ordinateurs.\n",
    "\n"
   ]
  },
  {
   "cell_type": "markdown",
   "metadata": {
    "slideshow": {
     "slide_type": "slide"
    }
   },
   "source": [
    "## 2. Environnement de programmation pour Python\n",
    "---\n",
    "\n",
    "Un programme est un *fichier texte* qui doit être interprété pour être exécuté. Pour cela il faut installer des logiciels:\n",
    "* un interpréteur: Python3 issu de la distribution Miniconda\n",
    "* un éditeur de texte: VisualStudioCode (ou vscode pour faire court)\n",
    "* des bibliothèques: numpy, matplotlib, jupyter\n",
    "* des outils de programmation: git, flake8, mypy\n",
    "\n",
    "Sur votre ordinateur personnel, vous devez suivre la procédure d'installation décrite sur [ce site](https://github.com/uvsq-info/l1-python/blob/master/INSTALL.md).\n",
    "\n",
    "* même si vous avez déjà une installation Python, il est fortement recommandé de faire cette nouvelle installation\n",
    "* il faut impérativement **installer le maximum de logiciels avant votre premier td** durant lequel on pourra vous aider\n",
    "* on utilise **Python3** et pas Python2"
   ]
  },
  {
   "cell_type": "markdown",
   "metadata": {
    "slideshow": {
     "slide_type": "subslide"
    }
   },
   "source": [
    "**Environnement de programmation: plusieurs solutions**\n",
    "\n",
    "---\n",
    "\n",
    "* solution à privilégier: ordinateur personnel avec l'installation de l'environnement\n",
    "* sinon, pour les TDs: utilisation du cartable numérique\n",
    "    * prêt à la demi-journée à la bibliothèque\n",
    "    * carte d'étudiant obligatoire\n",
    "    * sauvegarde via l'outil git et compte [github](https://github.com/)\n",
    "* en cas d'impossibilité d'installer l'environnement: utilisation d'un notebook Python en ligne comme [Google Colab](https://colab.research.google.com/notebooks/intro.ipynb#recent=true). Cette solution ne permet pas d'utiliser les outils de programmation."
   ]
  },
  {
   "cell_type": "markdown",
   "metadata": {
    "slideshow": {
     "slide_type": "slide"
    }
   },
   "source": [
    "## 3. Evaluation du cours\n",
    "---\n",
    "\n",
    "* contrôle continu exclusif\n",
    "* interrogation courte à la fin de chaque TD en présentiel excepté le premier TD.\n",
    "* 12 TDs au total dont 6 en présentiel: 5 notes au total."
   ]
  },
  {
   "cell_type": "markdown",
   "metadata": {
    "slideshow": {
     "slide_type": "slide"
    }
   },
   "source": [
    "## 4. Python\n",
    "---\n",
    "\n",
    "* créé par Guido van Russom (Pays-Bas), fan des Monty-Python\n",
    "* première version de Python en 1991\n",
    "* entre autres caractéristiques du langage:\n",
    "    * multiplateformes: Windows, Linux, MacOs, Android...\n",
    "    * gratuit et open-source\n",
    "    * langage de haut-niveau \n",
    "    * bénéficie d'une communauté active\n",
    "    * caractéristiques techniques du langage vues au fur et à mesure du cours"
   ]
  },
  {
   "cell_type": "markdown",
   "metadata": {
    "slideshow": {
     "slide_type": "subslide"
    }
   },
   "source": [
    "**Manières de programmer en Python**\n",
    "\n",
    "---\n",
    "\n",
    "* notebook Python (cf cellule suivante)\n",
    "* interpréteur en mode interactif (démo dans le terminal)\n",
    "* programme (aussi appelé script)\n",
    "    * fichier texte qui contient une suite d'instructions\n",
    "    * on écrit avec un *éditeur de texte*, ce que n'est pas le logiciel word\n",
    "    * on exécute avec un interpréteur\n",
    "* programmer c'est aussi:\n",
    "    * écrire un programme lisible pour soi et les autres\n",
    "    * savoir débugger un programme\n",
    "    * maîtriser des outils de sauvegarde et de gestion de version\n",
    "    \n",
    "**Question:** Python est le meilleur langage du monde?"
   ]
  },
  {
   "cell_type": "code",
   "execution_count": null,
   "metadata": {
    "slideshow": {
     "slide_type": "fragment"
    }
   },
   "outputs": [],
   "source": []
  },
  {
   "cell_type": "markdown",
   "metadata": {
    "slideshow": {
     "slide_type": "subslide"
    }
   },
   "source": [
    "**Quelques références**\n",
    "\n",
    "---\n",
    "\n",
    "Vous trouverez beaucoup de cours en ligne. Voici une sélection de références:\n",
    "\n",
    "* livre de cours [en ligne](https://python.sdv.univ-paris-diderot.fr/)\n",
    "* site [https://courspython.com/bases-python.html](https://courspython.com/bases-python.html)\n",
    "* le [tutoriel](https://docs.python.org/fr/3/tutorial/index.html) et la [documentation officielle de Python3](https://docs.python.org/fr/3/)\n",
    "* [chaîne youtube de cours de Python](https://www.youtube.com/channel/UCAu1QoF2PfYcvIQt5lh0-xw) par Docteur algo\n",
    "\n",
    "et des réponses possibles à vos questions sur le site de questions-réponses [stackoverflow](https://stackoverflow.com/) (en anglais)\n",
    "\n"
   ]
  }
 ],
 "metadata": {
  "celltoolbar": "Diaporama",
  "kernelspec": {
   "display_name": "Python 3",
   "language": "python",
   "name": "python3"
  },
  "language_info": {
   "codemirror_mode": {
    "name": "ipython",
    "version": 3
   },
   "file_extension": ".py",
   "mimetype": "text/x-python",
   "name": "python",
   "nbconvert_exporter": "python",
   "pygments_lexer": "ipython3",
   "version": "3.7.6"
  }
 },
 "nbformat": 4,
 "nbformat_minor": 4
}
